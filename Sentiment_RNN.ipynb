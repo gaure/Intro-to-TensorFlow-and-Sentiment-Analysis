{
 "cells": [
  {
   "cell_type": "markdown",
   "metadata": {},
   "source": [
    "# Sentiment Analysis with an RNN\n",
    "\n",
    "The architecture for this network is shown below.\n",
    "\n",
    "<img src=\"images/RNNArch.png\" width=600px>\n"
   ]
  },
  {
   "cell_type": "code",
   "execution_count": 1,
   "metadata": {
    "collapsed": true
   },
   "outputs": [],
   "source": [
    "import numpy as np\n",
    "import tensorflow as tf\n"
   ]
  },
  {
   "cell_type": "markdown",
   "metadata": {},
   "source": [
    "## Collecting Data"
   ]
  },
  {
   "cell_type": "code",
   "execution_count": 2,
   "metadata": {
    "collapsed": true
   },
   "outputs": [],
   "source": [
    "with open('data/reviews.txt', 'r') as f:\n",
    "    reviews = f.read()\n",
    "with open('data/labels.txt', 'r') as f:\n",
    "    labels = f.read()"
   ]
  },
  {
   "cell_type": "code",
   "execution_count": 3,
   "metadata": {},
   "outputs": [
    {
     "data": {
      "text/plain": [
       "'bromwell high is a cartoon comedy . it ran at the same time as some other programs about school life  such as  teachers  . my   years in the teaching profession lead me to believe that bromwell high  s satire is much closer to reality than is  teachers  . the scramble to survive financially  the insightful students who can see right through their pathetic teachers  pomp  the pettiness of the whole situation  all remind me of the schools i knew and their students . when i saw the episode in which a student repeatedly tried to burn down the school  i immediately recalled . . . . . . . . . at . . . . . . . . . . high . a classic line inspector i  m here to sack one of your teachers . student welcome to bromwell high . i expect that many adults of my age think that bromwell high is far fetched . what a pity that it isn  t   \\nstory of a man who has unnatural feelings for a pig . starts out with a opening scene that is a terrific example of absurd comedy . a formal orchestra audience is turned into an insane  violent mob by the crazy chantings of it  s singers . unfortunately it stays absurd the whole time with no general narrative eventually making it just too off putting . even those from the era should be turned off . the cryptic dialogue would make shakespeare seem easy to a third grader . on a technical level it  s better than you might think with some good cinematography by future great vilmos zsigmond . future stars sally kirkland and frederic forrest can be seen briefly .  \\nhomelessness  or houselessness as george carlin stated  has been an issue for years but never a plan to help those on the street that were once considered human who did everything from going to school  work  or vote for the matter . most people think of the homeless as just a lost cause while worrying about things such as racism  the war on iraq  pressuring kids to succeed  technology  the elections  inflation  or worrying if they  ll be next to end up on the streets .  br    br   but what if y'"
      ]
     },
     "execution_count": 3,
     "metadata": {},
     "output_type": "execute_result"
    }
   ],
   "source": [
    "reviews[:2000]"
   ]
  },
  {
   "cell_type": "markdown",
   "metadata": {},
   "source": [
    "## Normalization and Tokenized\n",
    "\n",
    "Normalize reviews by removing \"punction and \\n\" and preserving each review separation, also create a list of words"
   ]
  },
  {
   "cell_type": "code",
   "execution_count": 4,
   "metadata": {},
   "outputs": [
    {
     "name": "stdout",
     "output_type": "stream",
     "text": [
      "Does all_text has linefeed: True \n",
      "\n",
      "First review: bromwell high is a cartoon comedy  it ran at the same time as some other programs about school life  such as  teachers   my   years in the teaching profession lead me to believe that bromwell high  s satire is much closer to reality than is  teachers   the scramble to survive financially  the insightful students who can see right through their pathetic teachers  pomp  the pettiness of the whole situation  all remind me of the schools i knew and their students  when i saw the episode in which a student repeatedly tried to burn down the school  i immediately recalled          at           high  a classic line inspector i  m here to sack one of your teachers  student welcome to bromwell high  i expect that many adults of my age think that bromwell high is far fetched  what a pity that it isn  t    \n",
      "\n",
      "Second review: story of a man who has unnatural feelings for a pig  starts out with a opening scene that is a terrific example of absurd comedy  a formal orchestra audience is turned into an insane  violent mob by the crazy chantings of it  s singers  unfortunately it stays absurd the whole time with no general narrative eventually making it just too off putting  even those from the era should be turned off  the cryptic dialogue would make shakespeare seem easy to a third grader  on a technical level it  s better than you might think with some good cinematography by future great vilmos zsigmond  future stars sally kirkland and frederic forrest can be seen briefly    \n",
      "\n"
     ]
    }
   ],
   "source": [
    "from string import punctuation\n",
    "# Exclude characters that are punctuation.\n",
    "all_text = ''.join([c for c in reviews if c not in punctuation])\n",
    "\n",
    "# Reviews are separated by line feed \\n \n",
    "print(\"Does all_text has linefeed: {}\".format('\\n' in all_text[:2000]),'\\n')\n",
    "\n",
    "# Get rid of the line feed by separating reviews using it as separator\n",
    "reviews_nolinefeed = all_text.split('\\n')\n",
    "print(\"First review: {} \\n\".format(reviews_nolinefeed[0]))\n",
    "print(\"Second review: {} \\n\".format(reviews_nolinefeed[1]))\n",
    "\n",
    "# Put all the reviews back in one big string for word counting\n",
    "all_text = ' '.join(reviews_nolinefeed)\n",
    "\n",
    "# Count words\n",
    "words = all_text.split()"
   ]
  },
  {
   "cell_type": "code",
   "execution_count": 5,
   "metadata": {},
   "outputs": [
    {
     "data": {
      "text/plain": [
       "'bromwell high is a cartoon comedy  it ran at the same time as some other programs about school life  such as  teachers   my   years in the teaching profession lead me to believe that bromwell high  s satire is much closer to reality than is  teachers   the scramble to survive financially  the insightful students who can see right through their pathetic teachers  pomp  the pettiness of the whole situation  all remind me of the schools i knew and their students  when i saw the episode in which a student repeatedly tried to burn down the school  i immediately recalled          at           high  a classic line inspector i  m here to sack one of your teachers  student welcome to bromwell high  i expect that many adults of my age think that bromwell high is far fetched  what a pity that it isn  t    story of a man who has unnatural feelings for a pig  starts out with a opening scene that is a terrific example of absurd comedy  a formal orchestra audience is turned into an insane  violent mob by the crazy chantings of it  s singers  unfortunately it stays absurd the whole time with no general narrative eventually making it just too off putting  even those from the era should be turned off  the cryptic dialogue would make shakespeare seem easy to a third grader  on a technical level it  s better than you might think with some good cinematography by future great vilmos zsigmond  future stars sally kirkland and frederic forrest can be seen briefly    homelessness  or houselessness as george carlin stated  has been an issue for years but never a plan to help those on the street that were once considered human who did everything from going to school  work  or vote for the matter  most people think of the homeless as just a lost cause while worrying about things such as racism  the war on iraq  pressuring kids to succeed  technology  the elections  inflation  or worrying if they  ll be next to end up on the streets   br    br   but what if you were given a bet to live on the st'"
      ]
     },
     "execution_count": 5,
     "metadata": {},
     "output_type": "execute_result"
    }
   ],
   "source": [
    "all_text[:2000]"
   ]
  },
  {
   "cell_type": "code",
   "execution_count": 6,
   "metadata": {},
   "outputs": [
    {
     "data": {
      "text/plain": [
       "['bromwell',\n",
       " 'high',\n",
       " 'is',\n",
       " 'a',\n",
       " 'cartoon',\n",
       " 'comedy',\n",
       " 'it',\n",
       " 'ran',\n",
       " 'at',\n",
       " 'the',\n",
       " 'same',\n",
       " 'time',\n",
       " 'as',\n",
       " 'some',\n",
       " 'other',\n",
       " 'programs',\n",
       " 'about',\n",
       " 'school',\n",
       " 'life',\n",
       " 'such',\n",
       " 'as',\n",
       " 'teachers',\n",
       " 'my',\n",
       " 'years',\n",
       " 'in',\n",
       " 'the',\n",
       " 'teaching',\n",
       " 'profession',\n",
       " 'lead',\n",
       " 'me',\n",
       " 'to',\n",
       " 'believe',\n",
       " 'that',\n",
       " 'bromwell',\n",
       " 'high',\n",
       " 's',\n",
       " 'satire',\n",
       " 'is',\n",
       " 'much',\n",
       " 'closer',\n",
       " 'to',\n",
       " 'reality',\n",
       " 'than',\n",
       " 'is',\n",
       " 'teachers',\n",
       " 'the',\n",
       " 'scramble',\n",
       " 'to',\n",
       " 'survive',\n",
       " 'financially',\n",
       " 'the',\n",
       " 'insightful',\n",
       " 'students',\n",
       " 'who',\n",
       " 'can',\n",
       " 'see',\n",
       " 'right',\n",
       " 'through',\n",
       " 'their',\n",
       " 'pathetic',\n",
       " 'teachers',\n",
       " 'pomp',\n",
       " 'the',\n",
       " 'pettiness',\n",
       " 'of',\n",
       " 'the',\n",
       " 'whole',\n",
       " 'situation',\n",
       " 'all',\n",
       " 'remind',\n",
       " 'me',\n",
       " 'of',\n",
       " 'the',\n",
       " 'schools',\n",
       " 'i',\n",
       " 'knew',\n",
       " 'and',\n",
       " 'their',\n",
       " 'students',\n",
       " 'when',\n",
       " 'i',\n",
       " 'saw',\n",
       " 'the',\n",
       " 'episode',\n",
       " 'in',\n",
       " 'which',\n",
       " 'a',\n",
       " 'student',\n",
       " 'repeatedly',\n",
       " 'tried',\n",
       " 'to',\n",
       " 'burn',\n",
       " 'down',\n",
       " 'the',\n",
       " 'school',\n",
       " 'i',\n",
       " 'immediately',\n",
       " 'recalled',\n",
       " 'at',\n",
       " 'high']"
      ]
     },
     "execution_count": 6,
     "metadata": {},
     "output_type": "execute_result"
    }
   ],
   "source": [
    "words[:100]"
   ]
  },
  {
   "cell_type": "markdown",
   "metadata": {},
   "source": [
    "### Encoding the words\n"
   ]
  },
  {
   "cell_type": "code",
   "execution_count": 7,
   "metadata": {},
   "outputs": [
    {
     "name": "stdout",
     "output_type": "stream",
     "text": [
      "Vocabulary size: 74072\n",
      "[22151, 308, 6, 3, 1051, 207, 8, 2143, 32, 1, 171, 57, 15, 49, 81, 5832, 44, 382, 110, 140, 15, 5242, 60, 154, 9, 1, 5002, 5899, 475, 71, 5, 260, 12, 22151, 308, 13, 1980, 6, 74, 2402, 5, 614, 73, 6, 5242, 1, 24833, 5, 1988, 10379, 1, 5850, 1501, 36, 51, 66, 204, 145, 67, 1204, 5242, 19904, 1, 44453, 4, 1, 221, 883, 31, 3005, 71, 4, 1, 5827, 10, 686, 2, 67, 1501, 54, 10, 216, 1, 383, 9, 62, 3, 1406, 3703, 784, 5, 3505, 180, 1, 382, 10, 1212, 13832, 32, 308, 3, 349, 341, 2921, 10, 143, 127, 5, 7816, 30, 4, 129, 5242, 1406, 2336, 5, 22151, 308, 10, 528, 12, 109, 1449, 4, 60, 543, 102, 12, 22151, 308, 6, 227, 4173, 48, 3, 2217, 12, 8, 215, 23]\n"
     ]
    }
   ],
   "source": [
    "from collections import Counter\n",
    "\n",
    "# Count The words\n",
    "counts = Counter(words)\n",
    "#print(list(counts.items())[:3])\n",
    "\n",
    "# Sort in alphabetic order\n",
    "vocab = sorted(counts, key=counts.get, reverse=True)\n",
    "print(\"Vocabulary size: {}\".format(len(vocab)))\n",
    "# Assign an integuer number to each word\n",
    "vocab_to_int = {word: ii for ii, word in enumerate(vocab, 1)}\n",
    "#print(list(vocab_to_int.keys())[1],vocab_to_int[list(vocab_to_int.keys())[1]])\n",
    "\n",
    "# Using the reviews_nolinefeed and the vocab_to_int to create \n",
    "reviews_ints = []\n",
    "for each in reviews_nolinefeed:\n",
    "    reviews_ints.append([vocab_to_int[word] for word in each.split()])\n",
    "print(reviews_ints[0])"
   ]
  },
  {
   "cell_type": "markdown",
   "metadata": {},
   "source": [
    "### Encoding the labels and make all reviews the same size\n",
    "\n",
    "Our labels are \"positive\" or \"negative\". To use these labels in our network, we need to convert them to 0 and 1.\n"
   ]
  },
  {
   "cell_type": "code",
   "execution_count": 8,
   "metadata": {
    "collapsed": true
   },
   "outputs": [],
   "source": [
    "labels = labels.split('\\n')\n",
    "labels = np.array([1 if each == 'positive' else 0 for each in labels])"
   ]
  },
  {
   "cell_type": "code",
   "execution_count": 9,
   "metadata": {},
   "outputs": [
    {
     "name": "stdout",
     "output_type": "stream",
     "text": [
      "Zero-length reviews: 1\n",
      "Maximum review length: 2514\n"
     ]
    }
   ],
   "source": [
    "review_lens = Counter([len(x) for x in reviews_ints])\n",
    "print(\"Zero-length reviews: {}\".format(review_lens[0]))\n",
    "print(\"Maximum review length: {}\".format(max(review_lens)))"
   ]
  },
  {
   "cell_type": "markdown",
   "metadata": {},
   "source": [
    "### Truncate reviews to 200 or pad them to 200"
   ]
  },
  {
   "cell_type": "code",
   "execution_count": 10,
   "metadata": {},
   "outputs": [
    {
     "data": {
      "text/plain": [
       "25000"
      ]
     },
     "execution_count": 10,
     "metadata": {},
     "output_type": "execute_result"
    }
   ],
   "source": [
    "non_zero_idx = [ii for ii, review in enumerate(reviews_ints) if len(review) != 0]\n",
    "len(non_zero_idx)"
   ]
  },
  {
   "cell_type": "code",
   "execution_count": 11,
   "metadata": {},
   "outputs": [
    {
     "data": {
      "text/plain": [
       "[]"
      ]
     },
     "execution_count": 11,
     "metadata": {},
     "output_type": "execute_result"
    }
   ],
   "source": [
    "reviews_ints[-1]"
   ]
  },
  {
   "cell_type": "markdown",
   "metadata": {},
   "source": [
    "Turns out its the final review that has zero length. But that might not always be the case, so let's make it more general."
   ]
  },
  {
   "cell_type": "code",
   "execution_count": 12,
   "metadata": {
    "collapsed": true
   },
   "outputs": [],
   "source": [
    "reviews_ints = [reviews_ints[ii] for ii in non_zero_idx]\n",
    "labels = np.array([labels[ii] for ii in non_zero_idx])"
   ]
  },
  {
   "cell_type": "markdown",
   "metadata": {},
   "source": [
    "Using reviews_int to pad the reviews to 200 characters\n",
    "\n"
   ]
  },
  {
   "cell_type": "code",
   "execution_count": 13,
   "metadata": {
    "collapsed": true
   },
   "outputs": [],
   "source": [
    "seq_len = 200\n",
    "features = np.zeros((len(reviews_ints), seq_len), dtype=int)\n",
    "for i, row in enumerate(reviews_ints):\n",
    "    features[i, -len(row):] = np.array(row)[:seq_len]"
   ]
  },
  {
   "cell_type": "code",
   "execution_count": 14,
   "metadata": {},
   "outputs": [
    {
     "name": "stdout",
     "output_type": "stream",
     "text": [
      "The shape on one review: (200,)\n",
      "One review: \n",
      " [    0     0     0     0     0     0     0     0     0     0     0     0\n",
      "     0     0     0     0     0     0     0     0     0     0     0     0\n",
      "     0     0     0     0     0     0     0     0     0     0     0     0\n",
      "     0     0     0     0     0     0     0     0     0     0     0     0\n",
      "     0     0     0     0     0     0     0     0     0     0     0     0\n",
      " 22151   308     6     3  1051   207     8  2143    32     1   171    57\n",
      "    15    49    81  5832    44   382   110   140    15  5242    60   154\n",
      "     9     1  5002  5899   475    71     5   260    12 22151   308    13\n",
      "  1980     6    74  2402     5   614    73     6  5242     1 24833     5\n",
      "  1988 10379     1  5850  1501    36    51    66   204   145    67  1204\n",
      "  5242 19904     1 44453     4     1   221   883    31  3005    71     4\n",
      "     1  5827    10   686     2    67  1501    54    10   216     1   383\n",
      "     9    62     3  1406  3703   784     5  3505   180     1   382    10\n",
      "  1212 13832    32   308     3   349   341  2921    10   143   127     5\n",
      "  7816    30     4   129  5242  1406  2336     5 22151   308    10   528\n",
      "    12   109  1449     4    60   543   102    12 22151   308     6   227\n",
      "  4173    48     3  2217    12     8   215    23]\n"
     ]
    }
   ],
   "source": [
    "print(\"The shape on one review: {}\".format(features[0].shape))\n",
    "print(\"One review: \\n {}\".format(features[0]))"
   ]
  },
  {
   "cell_type": "markdown",
   "metadata": {},
   "source": [
    "## Training, Validation, Test\n",
    "\n"
   ]
  },
  {
   "cell_type": "markdown",
   "metadata": {},
   "source": [
    "With our data in nice shape, we'll split it into training, validation, and test sets."
   ]
  },
  {
   "cell_type": "code",
   "execution_count": 15,
   "metadata": {},
   "outputs": [
    {
     "name": "stdout",
     "output_type": "stream",
     "text": [
      "\t\t\tFeature Shapes:\n",
      "Train set: \t\t(20000, 200) \n",
      "Validation set: \t(2500, 200) \n",
      "Test set: \t\t(2500, 200)\n"
     ]
    }
   ],
   "source": [
    "split_frac = 0.8\n",
    "split_idx = int(len(features)*0.8)\n",
    "train_x, val_x = features[:split_idx], features[split_idx:]\n",
    "train_y, val_y = labels[:split_idx], labels[split_idx:]\n",
    "\n",
    "test_idx = int(len(val_x)*0.5)\n",
    "val_x, test_x = val_x[:test_idx], val_x[test_idx:]\n",
    "val_y, test_y = val_y[:test_idx], val_y[test_idx:]\n",
    "\n",
    "print(\"\\t\\t\\tFeature Shapes:\")\n",
    "print(\"Train set: \\t\\t{}\".format(train_x.shape), \n",
    "      \"\\nValidation set: \\t{}\".format(val_x.shape),\n",
    "      \"\\nTest set: \\t\\t{}\".format(test_x.shape))"
   ]
  },
  {
   "cell_type": "markdown",
   "metadata": {},
   "source": [
    "With train, validation, and text fractions of 0.8, 0.1, 0.1, the final shapes should look like:\n",
    "```\n",
    "                    Feature Shapes:\n",
    "Train set: \t\t (20000, 200) \n",
    "Validation set: \t(2500, 200) \n",
    "Test set: \t\t  (2500, 200)\n",
    "```"
   ]
  },
  {
   "cell_type": "markdown",
   "metadata": {},
   "source": [
    "## Build the graph\n",
    "\n",
    "Here, we'll build the graph. First up, defining the hyperparameters.\n",
    "\n",
    "* `lstm_size`: Number of units in the hidden layers in the LSTM cells. Usually larger is better performance wise. Common values are 128, 256, 512, etc.\n",
    "* `lstm_layers`: Number of LSTM layers in the network. I'd start with 1, then add more if I'm underfitting.\n",
    "* `batch_size`: The number of reviews to feed the network in one training pass. Typically this should be set as high as you can go without running out of memory.\n",
    "* `learning_rate`: Learning rate"
   ]
  },
  {
   "cell_type": "code",
   "execution_count": 16,
   "metadata": {
    "collapsed": true
   },
   "outputs": [],
   "source": [
    "lstm_size = 256\n",
    "lstm_layers = 1\n",
    "batch_size = 100\n",
    "learning_rate = 0.001"
   ]
  },
  {
   "cell_type": "markdown",
   "metadata": {},
   "source": [
    "For the network itself, we'll be passing in our 200 element long review vectors. Each batch will be `batch_size` vectors. We'll also be using dropout on the LSTM layer, so we'll make a placeholder for the keep probability."
   ]
  },
  {
   "cell_type": "markdown",
   "metadata": {},
   "source": [
    "- INPUT x_train\n",
    "- LABEL y_train\n",
    "- PARAMETERS weight, bias, embedding\n",
    "- LABEL prediction Logistic Regression\n",
    "- LOSS function R^2 mean square differece\n",
    "- ACCURACY\n",
    "- OPTIOMIZATION function Adam"
   ]
  },
  {
   "cell_type": "code",
   "execution_count": 17,
   "metadata": {
    "collapsed": true
   },
   "outputs": [],
   "source": [
    "n_words = len(vocab_to_int) + 1 # Adding 1 because we use 0's for padding, dictionary started at 1\n",
    "\n",
    "# Create the graph object\n",
    "graph = tf.Graph()\n",
    "# Add nodes to the graph\n",
    "with graph.as_default():\n",
    "    inputs_ = tf.placeholder(tf.int32, [None, None], name='inputs')\n",
    "    labels_ = tf.placeholder(tf.int32, [None, None], name='labels')\n",
    "    keep_prob = tf.placeholder(tf.float32, name='keep_prob')"
   ]
  },
  {
   "cell_type": "markdown",
   "metadata": {},
   "source": [
    "### Embedding\n",
    "\n",
    "Now we'll add an embedding layer. We need to do this because there are 74000 words in our vocabulary. It is massively inefficient to one-hot encode our classes here. We will create an embedding lookup matrix as a [`tf.Variable`], then we will use that embedding matrix to get the embedded vectors to pass to the LSTM cell with [`tf.nn.embedding_lookup`]. This function takes the embedding matrix and an input tensor, such as the review vectors. Then, it'll return another tensor with the embedded vectors. So, if the embedding layer as 200 units, the function will return a tensor with size [batch_size, 200].\n",
    "\n"
   ]
  },
  {
   "cell_type": "code",
   "execution_count": 18,
   "metadata": {
    "collapsed": true
   },
   "outputs": [],
   "source": [
    "# Size of the embedding vectors (number of units in the embedding layer)\n",
    "#            30074072r i  m here to sack one of your teachers  student welcome to bromwell high  i expect that many adults of my age thin\n",
    "#          --------\n",
    "#         +       +\n",
    "# 74072   +       +\n",
    "#         +       +\n",
    "#          --------\n",
    "embed_size = 300 \n",
    "\n",
    "with graph.as_default():\n",
    "    embedding = tf.Variable(tf.random_uniform((n_words, embed_size), -1, 1))\n",
    "    embed = tf.nn.embedding_lookup(embedding, inputs_)"
   ]
  },
  {
   "cell_type": "code",
   "execution_count": 19,
   "metadata": {
    "collapsed": true
   },
   "outputs": [],
   "source": [
    "with graph.as_default():\n",
    "    # Your basic LSTM cell\n",
    "    lstm = tf.contrib.rnn.BasicLSTMCell(lstm_size)\n",
    "    \n",
    "    # Add dropout to the cell\n",
    "    drop = tf.contrib.rnn.DropoutWrapper(lstm, output_keep_prob=keep_prob)\n",
    "    \n",
    "    # Stack up multiple LSTM layers, for deep learning\n",
    "    cell = tf.contrib.rnn.MultiRNNCell([drop] * lstm_layers)\n",
    "    \n",
    "    # Getting an initial state of all zeros\n",
    "    initial_state = cell.zero_state(batch_size, tf.float32)"
   ]
  },
  {
   "cell_type": "code",
   "execution_count": 20,
   "metadata": {
    "collapsed": true
   },
   "outputs": [],
   "source": [
    "with graph.as_default():\n",
    "    outputs, final_state = tf.nn.dynamic_rnn(cell, embed,\n",
    "                                             initial_state=initial_state)"
   ]
  },
  {
   "cell_type": "markdown",
   "metadata": {},
   "source": [
    "### Output\n",
    "\n",
    "We only care about the final output, we'll be using that as our sentiment prediction. So we need to grab the last output with `outputs[:, -1]`, the calculate the cost from that and `labels_`."
   ]
  },
  {
   "cell_type": "code",
   "execution_count": 21,
   "metadata": {
    "collapsed": true
   },
   "outputs": [],
   "source": [
    "with graph.as_default():\n",
    "    predictions = tf.contrib.layers.fully_connected(outputs[:, -1], 1, activation_fn=tf.sigmoid)\n",
    "    cost = tf.losses.mean_squared_error(labels_, predictions)\n",
    "    \n",
    "    optimizer = tf.train.AdamOptimizer(learning_rate).minimize(cost)"
   ]
  },
  {
   "cell_type": "markdown",
   "metadata": {},
   "source": [
    "### Validation accuracy\n",
    "\n",
    "Here we can add a few nodes to calculate the accuracy which we'll use in the validation pass. Remeber in each epoch you feed at least 100 training samples and test using one accuracy set of samples and then you calculate how many you predict correctly and add them up and divided between the number of instances in the training set."
   ]
  },
  {
   "cell_type": "code",
   "execution_count": 22,
   "metadata": {
    "collapsed": true
   },
   "outputs": [],
   "source": [
    "with graph.as_default():\n",
    "    correct_pred = tf.equal(tf.cast(tf.round(predictions), tf.int32), labels_)\n",
    "    accuracy = tf.reduce_mean(tf.cast(correct_pred, tf.float32))"
   ]
  },
  {
   "cell_type": "markdown",
   "metadata": {},
   "source": [
    "### Batching\n",
    "\n",
    "We first calculate a range from 0 to index that accomodate 100 batches of 300 instances, the reste is reserved for validataion."
   ]
  },
  {
   "cell_type": "code",
   "execution_count": 23,
   "metadata": {
    "collapsed": true
   },
   "outputs": [],
   "source": [
    "def get_batches(x, y, batch_size=100):\n",
    "    \n",
    "    n_batches = len(x)//batch_size\n",
    "    x, y = x[:n_batches*batch_size], y[:n_batches*batch_size]\n",
    "    for ii in range(0, len(x), batch_size):\n",
    "        yield x[ii:ii+batch_size], y[ii:ii+batch_size]"
   ]
  },
  {
   "cell_type": "markdown",
   "metadata": {},
   "source": [
    "## Training\n",
    "\n",
    "Below is the typical training code."
   ]
  },
  {
   "cell_type": "code",
   "execution_count": 24,
   "metadata": {},
   "outputs": [
    {
     "name": "stdout",
     "output_type": "stream",
     "text": [
      "Epoch: 0/10 Iteration: 5 Train loss: 0.246\n",
      "Epoch: 0/10 Iteration: 10 Train loss: 0.233\n",
      "Epoch: 0/10 Iteration: 15 Train loss: 0.234\n",
      "Epoch: 0/10 Iteration: 20 Train loss: 0.236\n",
      "Epoch: 0/10 Iteration: 25 Train loss: 0.215\n",
      "Val acc: 0.629\n",
      "Epoch: 0/10 Iteration: 30 Train loss: 0.252\n",
      "Epoch: 0/10 Iteration: 35 Train loss: 0.251\n",
      "Epoch: 0/10 Iteration: 40 Train loss: 0.235\n",
      "Epoch: 0/10 Iteration: 45 Train loss: 0.244\n",
      "Epoch: 0/10 Iteration: 50 Train loss: 0.235\n",
      "Val acc: 0.588\n",
      "Epoch: 0/10 Iteration: 55 Train loss: 0.203\n",
      "Epoch: 0/10 Iteration: 60 Train loss: 0.229\n",
      "Epoch: 0/10 Iteration: 65 Train loss: 0.214\n",
      "Epoch: 0/10 Iteration: 70 Train loss: 0.292\n",
      "Epoch: 0/10 Iteration: 75 Train loss: 0.250\n",
      "Val acc: 0.571\n",
      "Epoch: 0/10 Iteration: 80 Train loss: 0.239\n",
      "Epoch: 0/10 Iteration: 85 Train loss: 0.243\n",
      "Epoch: 0/10 Iteration: 90 Train loss: 0.210\n",
      "Epoch: 0/10 Iteration: 95 Train loss: 0.245\n",
      "Epoch: 0/10 Iteration: 100 Train loss: 0.236\n",
      "Val acc: 0.581\n",
      "Epoch: 0/10 Iteration: 105 Train loss: 0.242\n",
      "Epoch: 0/10 Iteration: 110 Train loss: 0.225\n",
      "Epoch: 0/10 Iteration: 115 Train loss: 0.216\n",
      "Epoch: 0/10 Iteration: 120 Train loss: 0.200\n",
      "Epoch: 0/10 Iteration: 125 Train loss: 0.155\n",
      "Val acc: 0.698\n",
      "Epoch: 0/10 Iteration: 130 Train loss: 0.203\n",
      "Epoch: 0/10 Iteration: 135 Train loss: 0.228\n",
      "Epoch: 0/10 Iteration: 140 Train loss: 0.139\n",
      "Epoch: 0/10 Iteration: 145 Train loss: 0.292\n",
      "Epoch: 0/10 Iteration: 150 Train loss: 0.225\n",
      "Val acc: 0.738\n",
      "Epoch: 0/10 Iteration: 155 Train loss: 0.200\n",
      "Epoch: 0/10 Iteration: 160 Train loss: 0.230\n",
      "Epoch: 0/10 Iteration: 165 Train loss: 0.178\n",
      "Epoch: 0/10 Iteration: 170 Train loss: 0.179\n",
      "Epoch: 0/10 Iteration: 175 Train loss: 0.170\n",
      "Val acc: 0.716\n",
      "Epoch: 0/10 Iteration: 180 Train loss: 0.239\n",
      "Epoch: 0/10 Iteration: 185 Train loss: 0.178\n",
      "Epoch: 0/10 Iteration: 190 Train loss: 0.219\n",
      "Epoch: 0/10 Iteration: 195 Train loss: 0.229\n",
      "Epoch: 0/10 Iteration: 200 Train loss: 0.235\n",
      "Val acc: 0.667\n",
      "Epoch: 1/10 Iteration: 205 Train loss: 0.189\n",
      "Epoch: 1/10 Iteration: 210 Train loss: 0.174\n",
      "Epoch: 1/10 Iteration: 215 Train loss: 0.188\n",
      "Epoch: 1/10 Iteration: 220 Train loss: 0.166\n",
      "Epoch: 1/10 Iteration: 225 Train loss: 0.122\n",
      "Val acc: 0.773\n",
      "Epoch: 1/10 Iteration: 230 Train loss: 0.188\n",
      "Epoch: 1/10 Iteration: 235 Train loss: 0.259\n",
      "Epoch: 1/10 Iteration: 240 Train loss: 0.216\n",
      "Epoch: 1/10 Iteration: 245 Train loss: 0.214\n",
      "Epoch: 1/10 Iteration: 250 Train loss: 0.199\n",
      "Val acc: 0.668\n",
      "Epoch: 1/10 Iteration: 255 Train loss: 0.190\n",
      "Epoch: 1/10 Iteration: 260 Train loss: 0.196\n",
      "Epoch: 1/10 Iteration: 265 Train loss: 0.131\n",
      "Epoch: 1/10 Iteration: 270 Train loss: 0.102\n",
      "Epoch: 1/10 Iteration: 275 Train loss: 0.147\n",
      "Val acc: 0.758\n",
      "Epoch: 1/10 Iteration: 280 Train loss: 0.255\n",
      "Epoch: 1/10 Iteration: 285 Train loss: 0.170\n",
      "Epoch: 1/10 Iteration: 290 Train loss: 0.150\n",
      "Epoch: 1/10 Iteration: 295 Train loss: 0.154\n",
      "Epoch: 1/10 Iteration: 300 Train loss: 0.161\n",
      "Val acc: 0.731\n",
      "Epoch: 1/10 Iteration: 305 Train loss: 0.135\n",
      "Epoch: 1/10 Iteration: 310 Train loss: 0.150\n",
      "Epoch: 1/10 Iteration: 315 Train loss: 0.154\n",
      "Epoch: 1/10 Iteration: 320 Train loss: 0.143\n",
      "Epoch: 1/10 Iteration: 325 Train loss: 0.101\n",
      "Val acc: 0.740\n",
      "Epoch: 1/10 Iteration: 330 Train loss: 0.126\n",
      "Epoch: 1/10 Iteration: 335 Train loss: 0.136\n",
      "Epoch: 1/10 Iteration: 340 Train loss: 0.162\n",
      "Epoch: 1/10 Iteration: 345 Train loss: 0.270\n",
      "Epoch: 1/10 Iteration: 350 Train loss: 0.186\n",
      "Val acc: 0.715\n",
      "Epoch: 1/10 Iteration: 355 Train loss: 0.234\n",
      "Epoch: 1/10 Iteration: 360 Train loss: 0.221\n",
      "Epoch: 1/10 Iteration: 365 Train loss: 0.172\n",
      "Epoch: 1/10 Iteration: 370 Train loss: 0.150\n",
      "Epoch: 1/10 Iteration: 375 Train loss: 0.109\n",
      "Val acc: 0.770\n",
      "Epoch: 1/10 Iteration: 380 Train loss: 0.163\n",
      "Epoch: 1/10 Iteration: 385 Train loss: 0.110\n",
      "Epoch: 1/10 Iteration: 390 Train loss: 0.159\n",
      "Epoch: 1/10 Iteration: 395 Train loss: 0.147\n",
      "Epoch: 1/10 Iteration: 400 Train loss: 0.169\n",
      "Val acc: 0.752\n",
      "Epoch: 2/10 Iteration: 405 Train loss: 0.218\n",
      "Epoch: 2/10 Iteration: 410 Train loss: 0.205\n",
      "Epoch: 2/10 Iteration: 415 Train loss: 0.210\n",
      "Epoch: 2/10 Iteration: 420 Train loss: 0.231\n",
      "Epoch: 2/10 Iteration: 425 Train loss: 0.212\n",
      "Val acc: 0.556\n",
      "Epoch: 2/10 Iteration: 430 Train loss: 0.238\n",
      "Epoch: 2/10 Iteration: 435 Train loss: 0.231\n",
      "Epoch: 2/10 Iteration: 440 Train loss: 0.226\n",
      "Epoch: 2/10 Iteration: 445 Train loss: 0.222\n",
      "Epoch: 2/10 Iteration: 450 Train loss: 0.219\n",
      "Val acc: 0.607\n",
      "Epoch: 2/10 Iteration: 455 Train loss: 0.201\n",
      "Epoch: 2/10 Iteration: 460 Train loss: 0.192\n",
      "Epoch: 2/10 Iteration: 465 Train loss: 0.143\n",
      "Epoch: 2/10 Iteration: 470 Train loss: 0.112\n",
      "Epoch: 2/10 Iteration: 475 Train loss: 0.212\n",
      "Val acc: 0.650\n",
      "Epoch: 2/10 Iteration: 480 Train loss: 0.274\n",
      "Epoch: 2/10 Iteration: 485 Train loss: 0.245\n",
      "Epoch: 2/10 Iteration: 490 Train loss: 0.216\n",
      "Epoch: 2/10 Iteration: 495 Train loss: 0.239\n",
      "Epoch: 2/10 Iteration: 500 Train loss: 0.205\n",
      "Val acc: 0.645\n",
      "Epoch: 2/10 Iteration: 505 Train loss: 0.165\n",
      "Epoch: 2/10 Iteration: 510 Train loss: 0.147\n",
      "Epoch: 2/10 Iteration: 515 Train loss: 0.149\n",
      "Epoch: 2/10 Iteration: 520 Train loss: 0.145\n",
      "Epoch: 2/10 Iteration: 525 Train loss: 0.079\n",
      "Val acc: 0.748\n",
      "Epoch: 2/10 Iteration: 530 Train loss: 0.152\n",
      "Epoch: 2/10 Iteration: 535 Train loss: 0.123\n",
      "Epoch: 2/10 Iteration: 540 Train loss: 0.112\n",
      "Epoch: 2/10 Iteration: 545 Train loss: 0.249\n",
      "Epoch: 2/10 Iteration: 550 Train loss: 0.158\n",
      "Val acc: 0.728\n",
      "Epoch: 2/10 Iteration: 555 Train loss: 0.151\n",
      "Epoch: 2/10 Iteration: 560 Train loss: 0.174\n",
      "Epoch: 2/10 Iteration: 565 Train loss: 0.181\n",
      "Epoch: 2/10 Iteration: 570 Train loss: 0.163\n",
      "Epoch: 2/10 Iteration: 575 Train loss: 0.131\n",
      "Val acc: 0.742\n",
      "Epoch: 2/10 Iteration: 580 Train loss: 0.138\n",
      "Epoch: 2/10 Iteration: 585 Train loss: 0.099\n",
      "Epoch: 2/10 Iteration: 590 Train loss: 0.121\n",
      "Epoch: 2/10 Iteration: 595 Train loss: 0.087\n",
      "Epoch: 2/10 Iteration: 600 Train loss: 0.246\n",
      "Val acc: 0.611\n",
      "Epoch: 3/10 Iteration: 605 Train loss: 0.165\n",
      "Epoch: 3/10 Iteration: 610 Train loss: 0.109\n",
      "Epoch: 3/10 Iteration: 615 Train loss: 0.203\n",
      "Epoch: 3/10 Iteration: 620 Train loss: 0.210\n",
      "Epoch: 3/10 Iteration: 625 Train loss: 0.210\n",
      "Val acc: 0.615\n",
      "Epoch: 3/10 Iteration: 630 Train loss: 0.209\n",
      "Epoch: 3/10 Iteration: 635 Train loss: 0.189\n",
      "Epoch: 3/10 Iteration: 640 Train loss: 0.200\n",
      "Epoch: 3/10 Iteration: 645 Train loss: 0.185\n",
      "Epoch: 3/10 Iteration: 650 Train loss: 0.189\n",
      "Val acc: 0.639\n",
      "Epoch: 3/10 Iteration: 655 Train loss: 0.188\n",
      "Epoch: 3/10 Iteration: 660 Train loss: 0.183\n",
      "Epoch: 3/10 Iteration: 665 Train loss: 0.118\n",
      "Epoch: 3/10 Iteration: 670 Train loss: 0.061\n",
      "Epoch: 3/10 Iteration: 675 Train loss: 0.083\n",
      "Val acc: 0.588\n",
      "Epoch: 3/10 Iteration: 680 Train loss: 0.231\n",
      "Epoch: 3/10 Iteration: 685 Train loss: 0.194\n",
      "Epoch: 3/10 Iteration: 690 Train loss: 0.169\n",
      "Epoch: 3/10 Iteration: 695 Train loss: 0.177\n",
      "Epoch: 3/10 Iteration: 700 Train loss: 0.197\n",
      "Val acc: 0.642\n",
      "Epoch: 3/10 Iteration: 705 Train loss: 0.186\n",
      "Epoch: 3/10 Iteration: 710 Train loss: 0.175\n",
      "Epoch: 3/10 Iteration: 715 Train loss: 0.149\n",
      "Epoch: 3/10 Iteration: 720 Train loss: 0.149\n",
      "Epoch: 3/10 Iteration: 725 Train loss: 0.134\n",
      "Val acc: 0.647\n",
      "Epoch: 3/10 Iteration: 730 Train loss: 0.168\n",
      "Epoch: 3/10 Iteration: 735 Train loss: 0.162\n",
      "Epoch: 3/10 Iteration: 740 Train loss: 0.141\n",
      "Epoch: 3/10 Iteration: 745 Train loss: 0.156\n",
      "Epoch: 3/10 Iteration: 750 Train loss: 0.130\n",
      "Val acc: 0.708\n",
      "Epoch: 3/10 Iteration: 755 Train loss: 0.163\n",
      "Epoch: 3/10 Iteration: 760 Train loss: 0.173\n",
      "Epoch: 3/10 Iteration: 765 Train loss: 0.096\n",
      "Epoch: 3/10 Iteration: 770 Train loss: 0.128\n",
      "Epoch: 3/10 Iteration: 775 Train loss: 0.105\n",
      "Val acc: 0.706\n",
      "Epoch: 3/10 Iteration: 780 Train loss: 0.147\n",
      "Epoch: 3/10 Iteration: 785 Train loss: 0.084\n",
      "Epoch: 3/10 Iteration: 790 Train loss: 0.127\n",
      "Epoch: 3/10 Iteration: 795 Train loss: 0.114\n",
      "Epoch: 3/10 Iteration: 800 Train loss: 0.270\n",
      "Val acc: 0.630\n",
      "Epoch: 4/10 Iteration: 805 Train loss: 0.159\n",
      "Epoch: 4/10 Iteration: 810 Train loss: 0.098\n",
      "Epoch: 4/10 Iteration: 815 Train loss: 0.160\n",
      "Epoch: 4/10 Iteration: 820 Train loss: 0.140\n",
      "Epoch: 4/10 Iteration: 825 Train loss: 0.127\n",
      "Val acc: 0.742\n",
      "Epoch: 4/10 Iteration: 830 Train loss: 0.143\n",
      "Epoch: 4/10 Iteration: 835 Train loss: 0.109\n",
      "Epoch: 4/10 Iteration: 840 Train loss: 0.105\n",
      "Epoch: 4/10 Iteration: 845 Train loss: 0.131\n",
      "Epoch: 4/10 Iteration: 850 Train loss: 0.146\n",
      "Val acc: 0.774\n",
      "Epoch: 4/10 Iteration: 855 Train loss: 0.247\n",
      "Epoch: 4/10 Iteration: 860 Train loss: 0.178\n"
     ]
    },
    {
     "name": "stdout",
     "output_type": "stream",
     "text": [
      "Epoch: 4/10 Iteration: 865 Train loss: 0.100\n",
      "Epoch: 4/10 Iteration: 870 Train loss: 0.131\n",
      "Epoch: 4/10 Iteration: 875 Train loss: 0.129\n",
      "Val acc: 0.740\n",
      "Epoch: 4/10 Iteration: 880 Train loss: 0.107\n",
      "Epoch: 4/10 Iteration: 885 Train loss: 0.108\n",
      "Epoch: 4/10 Iteration: 890 Train loss: 0.091\n",
      "Epoch: 4/10 Iteration: 895 Train loss: 0.112\n",
      "Epoch: 4/10 Iteration: 900 Train loss: 0.118\n",
      "Val acc: 0.798\n",
      "Epoch: 4/10 Iteration: 905 Train loss: 0.059\n",
      "Epoch: 4/10 Iteration: 910 Train loss: 0.068\n",
      "Epoch: 4/10 Iteration: 915 Train loss: 0.089\n",
      "Epoch: 4/10 Iteration: 920 Train loss: 0.074\n",
      "Epoch: 4/10 Iteration: 925 Train loss: 0.052\n",
      "Val acc: 0.830\n",
      "Epoch: 4/10 Iteration: 930 Train loss: 0.069\n",
      "Epoch: 4/10 Iteration: 935 Train loss: 0.065\n",
      "Epoch: 4/10 Iteration: 940 Train loss: 0.036\n",
      "Epoch: 4/10 Iteration: 945 Train loss: 0.114\n",
      "Epoch: 4/10 Iteration: 950 Train loss: 0.056\n",
      "Val acc: 0.776\n",
      "Epoch: 4/10 Iteration: 955 Train loss: 0.115\n",
      "Epoch: 4/10 Iteration: 960 Train loss: 0.124\n",
      "Epoch: 4/10 Iteration: 965 Train loss: 0.043\n",
      "Epoch: 4/10 Iteration: 970 Train loss: 0.072\n",
      "Epoch: 4/10 Iteration: 975 Train loss: 0.011\n",
      "Val acc: 0.934\n",
      "Epoch: 4/10 Iteration: 980 Train loss: 0.040\n",
      "Epoch: 4/10 Iteration: 985 Train loss: 0.011\n",
      "Epoch: 4/10 Iteration: 990 Train loss: 0.007\n",
      "Epoch: 4/10 Iteration: 995 Train loss: 0.004\n",
      "Epoch: 4/10 Iteration: 1000 Train loss: 0.003\n",
      "Val acc: 0.886\n",
      "Epoch: 5/10 Iteration: 1005 Train loss: 0.064\n",
      "Epoch: 5/10 Iteration: 1010 Train loss: 0.034\n",
      "Epoch: 5/10 Iteration: 1015 Train loss: 0.073\n",
      "Epoch: 5/10 Iteration: 1020 Train loss: 0.025\n",
      "Epoch: 5/10 Iteration: 1025 Train loss: 0.011\n",
      "Val acc: 0.860\n",
      "Epoch: 5/10 Iteration: 1030 Train loss: 0.015\n",
      "Epoch: 5/10 Iteration: 1035 Train loss: 0.064\n",
      "Epoch: 5/10 Iteration: 1040 Train loss: 0.316\n",
      "Epoch: 5/10 Iteration: 1045 Train loss: 0.205\n",
      "Epoch: 5/10 Iteration: 1050 Train loss: 0.178\n",
      "Val acc: 0.635\n",
      "Epoch: 5/10 Iteration: 1055 Train loss: 0.174\n",
      "Epoch: 5/10 Iteration: 1060 Train loss: 0.150\n",
      "Epoch: 5/10 Iteration: 1065 Train loss: 0.112\n",
      "Epoch: 5/10 Iteration: 1070 Train loss: 0.124\n",
      "Epoch: 5/10 Iteration: 1075 Train loss: 0.117\n",
      "Val acc: 0.690\n",
      "Epoch: 5/10 Iteration: 1080 Train loss: 0.097\n",
      "Epoch: 5/10 Iteration: 1085 Train loss: 0.078\n",
      "Epoch: 5/10 Iteration: 1090 Train loss: 0.080\n",
      "Epoch: 5/10 Iteration: 1095 Train loss: 0.084\n",
      "Epoch: 5/10 Iteration: 1100 Train loss: 0.123\n",
      "Val acc: 0.826\n",
      "Epoch: 5/10 Iteration: 1105 Train loss: 0.067\n",
      "Epoch: 5/10 Iteration: 1110 Train loss: 0.061\n",
      "Epoch: 5/10 Iteration: 1115 Train loss: 0.056\n",
      "Epoch: 5/10 Iteration: 1120 Train loss: 0.057\n",
      "Epoch: 5/10 Iteration: 1125 Train loss: 0.044\n",
      "Val acc: 0.783\n",
      "Epoch: 5/10 Iteration: 1130 Train loss: 0.079\n",
      "Epoch: 5/10 Iteration: 1135 Train loss: 0.050\n",
      "Epoch: 5/10 Iteration: 1140 Train loss: 0.142\n",
      "Epoch: 5/10 Iteration: 1145 Train loss: 0.110\n",
      "Epoch: 5/10 Iteration: 1150 Train loss: 0.086\n",
      "Val acc: 0.732\n",
      "Epoch: 5/10 Iteration: 1155 Train loss: 0.100\n",
      "Epoch: 5/10 Iteration: 1160 Train loss: 0.115\n",
      "Epoch: 5/10 Iteration: 1165 Train loss: 0.077\n",
      "Epoch: 5/10 Iteration: 1170 Train loss: 0.096\n",
      "Epoch: 5/10 Iteration: 1175 Train loss: 0.059\n",
      "Val acc: 0.796\n",
      "Epoch: 5/10 Iteration: 1180 Train loss: 0.068\n",
      "Epoch: 5/10 Iteration: 1185 Train loss: 0.055\n",
      "Epoch: 5/10 Iteration: 1190 Train loss: 0.095\n",
      "Epoch: 5/10 Iteration: 1195 Train loss: 0.056\n",
      "Epoch: 5/10 Iteration: 1200 Train loss: 0.083\n",
      "Val acc: 0.840\n",
      "Epoch: 6/10 Iteration: 1205 Train loss: 0.096\n",
      "Epoch: 6/10 Iteration: 1210 Train loss: 0.036\n",
      "Epoch: 6/10 Iteration: 1215 Train loss: 0.077\n",
      "Epoch: 6/10 Iteration: 1220 Train loss: 0.070\n",
      "Epoch: 6/10 Iteration: 1225 Train loss: 0.043\n",
      "Val acc: 0.815\n",
      "Epoch: 6/10 Iteration: 1230 Train loss: 0.102\n",
      "Epoch: 6/10 Iteration: 1235 Train loss: 0.053\n",
      "Epoch: 6/10 Iteration: 1240 Train loss: 0.071\n",
      "Epoch: 6/10 Iteration: 1245 Train loss: 0.123\n",
      "Epoch: 6/10 Iteration: 1250 Train loss: 0.096\n",
      "Val acc: 0.781\n",
      "Epoch: 6/10 Iteration: 1255 Train loss: 0.105\n",
      "Epoch: 6/10 Iteration: 1260 Train loss: 0.067\n",
      "Epoch: 6/10 Iteration: 1265 Train loss: 0.037\n",
      "Epoch: 6/10 Iteration: 1270 Train loss: 0.022\n",
      "Epoch: 6/10 Iteration: 1275 Train loss: 0.045\n",
      "Val acc: 0.852\n",
      "Epoch: 6/10 Iteration: 1280 Train loss: 0.036\n",
      "Epoch: 6/10 Iteration: 1285 Train loss: 0.022\n",
      "Epoch: 6/10 Iteration: 1290 Train loss: 0.014\n",
      "Epoch: 6/10 Iteration: 1295 Train loss: 0.067\n",
      "Epoch: 6/10 Iteration: 1300 Train loss: 0.061\n",
      "Val acc: 0.856\n",
      "Epoch: 6/10 Iteration: 1305 Train loss: 0.041\n",
      "Epoch: 6/10 Iteration: 1310 Train loss: 0.005\n",
      "Epoch: 6/10 Iteration: 1315 Train loss: 0.002\n",
      "Epoch: 6/10 Iteration: 1320 Train loss: 0.004\n",
      "Epoch: 6/10 Iteration: 1325 Train loss: 0.002\n",
      "Val acc: 0.818\n",
      "Epoch: 6/10 Iteration: 1330 Train loss: 0.030\n",
      "Epoch: 6/10 Iteration: 1335 Train loss: 0.012\n",
      "Epoch: 6/10 Iteration: 1340 Train loss: 0.021\n",
      "Epoch: 6/10 Iteration: 1345 Train loss: 0.017\n",
      "Epoch: 6/10 Iteration: 1350 Train loss: 0.013\n",
      "Val acc: 0.809\n",
      "Epoch: 6/10 Iteration: 1355 Train loss: 0.006\n",
      "Epoch: 6/10 Iteration: 1360 Train loss: 0.015\n",
      "Epoch: 6/10 Iteration: 1365 Train loss: 0.001\n",
      "Epoch: 6/10 Iteration: 1370 Train loss: 0.000\n",
      "Epoch: 6/10 Iteration: 1375 Train loss: 0.001\n",
      "Val acc: 0.791\n",
      "Epoch: 6/10 Iteration: 1380 Train loss: 0.000\n",
      "Epoch: 6/10 Iteration: 1385 Train loss: 0.000\n",
      "Epoch: 6/10 Iteration: 1390 Train loss: 0.000\n",
      "Epoch: 6/10 Iteration: 1395 Train loss: 0.000\n",
      "Epoch: 6/10 Iteration: 1400 Train loss: 0.000\n",
      "Val acc: 0.750\n",
      "Epoch: 7/10 Iteration: 1405 Train loss: 0.091\n",
      "Epoch: 7/10 Iteration: 1410 Train loss: 0.267\n",
      "Epoch: 7/10 Iteration: 1415 Train loss: 0.130\n",
      "Epoch: 7/10 Iteration: 1420 Train loss: 0.123\n",
      "Epoch: 7/10 Iteration: 1425 Train loss: 0.140\n",
      "Val acc: 0.660\n",
      "Epoch: 7/10 Iteration: 1430 Train loss: 0.084\n",
      "Epoch: 7/10 Iteration: 1435 Train loss: 0.083\n",
      "Epoch: 7/10 Iteration: 1440 Train loss: 0.079\n",
      "Epoch: 7/10 Iteration: 1445 Train loss: 0.050\n",
      "Epoch: 7/10 Iteration: 1450 Train loss: 0.057\n",
      "Val acc: 0.844\n",
      "Epoch: 7/10 Iteration: 1455 Train loss: 0.060\n",
      "Epoch: 7/10 Iteration: 1460 Train loss: 0.037\n",
      "Epoch: 7/10 Iteration: 1465 Train loss: 0.063\n",
      "Epoch: 7/10 Iteration: 1470 Train loss: 0.022\n",
      "Epoch: 7/10 Iteration: 1475 Train loss: 0.019\n",
      "Val acc: 0.856\n",
      "Epoch: 7/10 Iteration: 1480 Train loss: 0.018\n",
      "Epoch: 7/10 Iteration: 1485 Train loss: 0.033\n",
      "Epoch: 7/10 Iteration: 1490 Train loss: 0.026\n",
      "Epoch: 7/10 Iteration: 1495 Train loss: 0.034\n",
      "Epoch: 7/10 Iteration: 1500 Train loss: 0.039\n",
      "Val acc: 0.891\n",
      "Epoch: 7/10 Iteration: 1505 Train loss: 0.014\n",
      "Epoch: 7/10 Iteration: 1510 Train loss: 0.021\n",
      "Epoch: 7/10 Iteration: 1515 Train loss: 0.012\n",
      "Epoch: 7/10 Iteration: 1520 Train loss: 0.013\n",
      "Epoch: 7/10 Iteration: 1525 Train loss: 0.010\n",
      "Val acc: 0.745\n",
      "Epoch: 7/10 Iteration: 1530 Train loss: 0.037\n",
      "Epoch: 7/10 Iteration: 1535 Train loss: 0.031\n",
      "Epoch: 7/10 Iteration: 1540 Train loss: 0.016\n",
      "Epoch: 7/10 Iteration: 1545 Train loss: 0.039\n",
      "Epoch: 7/10 Iteration: 1550 Train loss: 0.006\n",
      "Val acc: 0.821\n",
      "Epoch: 7/10 Iteration: 1555 Train loss: 0.018\n",
      "Epoch: 7/10 Iteration: 1560 Train loss: 0.046\n",
      "Epoch: 7/10 Iteration: 1565 Train loss: 0.010\n",
      "Epoch: 7/10 Iteration: 1570 Train loss: 0.036\n",
      "Epoch: 7/10 Iteration: 1575 Train loss: 0.044\n",
      "Val acc: 0.672\n",
      "Epoch: 7/10 Iteration: 1580 Train loss: 0.049\n",
      "Epoch: 7/10 Iteration: 1585 Train loss: 0.010\n",
      "Epoch: 7/10 Iteration: 1590 Train loss: 0.146\n",
      "Epoch: 7/10 Iteration: 1595 Train loss: 0.078\n",
      "Epoch: 7/10 Iteration: 1600 Train loss: 0.058\n",
      "Val acc: 0.909\n",
      "Epoch: 8/10 Iteration: 1605 Train loss: 0.088\n",
      "Epoch: 8/10 Iteration: 1610 Train loss: 0.099\n",
      "Epoch: 8/10 Iteration: 1615 Train loss: 0.082\n",
      "Epoch: 8/10 Iteration: 1620 Train loss: 0.081\n",
      "Epoch: 8/10 Iteration: 1625 Train loss: 0.033\n",
      "Val acc: 0.796\n",
      "Epoch: 8/10 Iteration: 1630 Train loss: 0.064\n",
      "Epoch: 8/10 Iteration: 1635 Train loss: 0.018\n",
      "Epoch: 8/10 Iteration: 1640 Train loss: 0.040\n",
      "Epoch: 8/10 Iteration: 1645 Train loss: 0.009\n",
      "Epoch: 8/10 Iteration: 1650 Train loss: 0.023\n",
      "Val acc: 0.930\n",
      "Epoch: 8/10 Iteration: 1655 Train loss: 0.008\n",
      "Epoch: 8/10 Iteration: 1660 Train loss: 0.002\n",
      "Epoch: 8/10 Iteration: 1665 Train loss: 0.001\n",
      "Epoch: 8/10 Iteration: 1670 Train loss: 0.001\n",
      "Epoch: 8/10 Iteration: 1675 Train loss: 0.010\n",
      "Val acc: 0.952\n",
      "Epoch: 8/10 Iteration: 1680 Train loss: 0.010\n",
      "Epoch: 8/10 Iteration: 1685 Train loss: 0.003\n",
      "Epoch: 8/10 Iteration: 1690 Train loss: 0.001\n",
      "Epoch: 8/10 Iteration: 1695 Train loss: 0.002\n",
      "Epoch: 8/10 Iteration: 1700 Train loss: 0.001\n"
     ]
    },
    {
     "name": "stdout",
     "output_type": "stream",
     "text": [
      "Val acc: 0.940\n",
      "Epoch: 8/10 Iteration: 1705 Train loss: 0.007\n",
      "Epoch: 8/10 Iteration: 1710 Train loss: 0.000\n",
      "Epoch: 8/10 Iteration: 1715 Train loss: 0.000\n",
      "Epoch: 8/10 Iteration: 1720 Train loss: 0.000\n",
      "Epoch: 8/10 Iteration: 1725 Train loss: 0.001\n",
      "Val acc: 0.941\n",
      "Epoch: 8/10 Iteration: 1730 Train loss: 0.001\n",
      "Epoch: 8/10 Iteration: 1735 Train loss: 0.000\n",
      "Epoch: 8/10 Iteration: 1740 Train loss: 0.000\n",
      "Epoch: 8/10 Iteration: 1745 Train loss: 0.001\n",
      "Epoch: 8/10 Iteration: 1750 Train loss: 0.001\n",
      "Val acc: 0.935\n",
      "Epoch: 8/10 Iteration: 1755 Train loss: 0.000\n",
      "Epoch: 8/10 Iteration: 1760 Train loss: 0.000\n",
      "Epoch: 8/10 Iteration: 1765 Train loss: 0.000\n",
      "Epoch: 8/10 Iteration: 1770 Train loss: 0.000\n",
      "Epoch: 8/10 Iteration: 1775 Train loss: 0.000\n",
      "Val acc: 0.924\n",
      "Epoch: 8/10 Iteration: 1780 Train loss: 0.001\n",
      "Epoch: 8/10 Iteration: 1785 Train loss: 0.002\n",
      "Epoch: 8/10 Iteration: 1790 Train loss: 0.000\n",
      "Epoch: 8/10 Iteration: 1795 Train loss: 0.000\n",
      "Epoch: 8/10 Iteration: 1800 Train loss: 0.000\n",
      "Val acc: 0.922\n",
      "Epoch: 9/10 Iteration: 1805 Train loss: 0.044\n",
      "Epoch: 9/10 Iteration: 1810 Train loss: 0.009\n",
      "Epoch: 9/10 Iteration: 1815 Train loss: 0.013\n",
      "Epoch: 9/10 Iteration: 1820 Train loss: 0.014\n",
      "Epoch: 9/10 Iteration: 1825 Train loss: 0.000\n",
      "Val acc: 0.905\n",
      "Epoch: 9/10 Iteration: 1830 Train loss: 0.000\n",
      "Epoch: 9/10 Iteration: 1835 Train loss: 0.000\n",
      "Epoch: 9/10 Iteration: 1840 Train loss: 0.010\n",
      "Epoch: 9/10 Iteration: 1845 Train loss: 0.000\n",
      "Epoch: 9/10 Iteration: 1850 Train loss: 0.001\n",
      "Val acc: 0.961\n",
      "Epoch: 9/10 Iteration: 1855 Train loss: 0.001\n",
      "Epoch: 9/10 Iteration: 1860 Train loss: 0.000\n",
      "Epoch: 9/10 Iteration: 1865 Train loss: 0.000\n",
      "Epoch: 9/10 Iteration: 1870 Train loss: 0.000\n",
      "Epoch: 9/10 Iteration: 1875 Train loss: 0.007\n",
      "Val acc: 0.938\n",
      "Epoch: 9/10 Iteration: 1880 Train loss: 0.001\n",
      "Epoch: 9/10 Iteration: 1885 Train loss: 0.001\n",
      "Epoch: 9/10 Iteration: 1890 Train loss: 0.000\n",
      "Epoch: 9/10 Iteration: 1895 Train loss: 0.000\n",
      "Epoch: 9/10 Iteration: 1900 Train loss: 0.001\n",
      "Val acc: 0.934\n",
      "Epoch: 9/10 Iteration: 1905 Train loss: 0.000\n",
      "Epoch: 9/10 Iteration: 1910 Train loss: 0.000\n",
      "Epoch: 9/10 Iteration: 1915 Train loss: 0.000\n",
      "Epoch: 9/10 Iteration: 1920 Train loss: 0.000\n",
      "Epoch: 9/10 Iteration: 1925 Train loss: 0.000\n",
      "Val acc: 0.931\n",
      "Epoch: 9/10 Iteration: 1930 Train loss: 0.000\n",
      "Epoch: 9/10 Iteration: 1935 Train loss: 0.000\n",
      "Epoch: 9/10 Iteration: 1940 Train loss: 0.000\n",
      "Epoch: 9/10 Iteration: 1945 Train loss: 0.000\n",
      "Epoch: 9/10 Iteration: 1950 Train loss: 0.000\n",
      "Val acc: 0.931\n",
      "Epoch: 9/10 Iteration: 1955 Train loss: 0.000\n",
      "Epoch: 9/10 Iteration: 1960 Train loss: 0.000\n",
      "Epoch: 9/10 Iteration: 1965 Train loss: 0.000\n",
      "Epoch: 9/10 Iteration: 1970 Train loss: 0.000\n",
      "Epoch: 9/10 Iteration: 1975 Train loss: 0.000\n",
      "Val acc: 0.930\n",
      "Epoch: 9/10 Iteration: 1980 Train loss: 0.000\n",
      "Epoch: 9/10 Iteration: 1985 Train loss: 0.000\n",
      "Epoch: 9/10 Iteration: 1990 Train loss: 0.000\n",
      "Epoch: 9/10 Iteration: 1995 Train loss: 0.000\n",
      "Epoch: 9/10 Iteration: 2000 Train loss: 0.000\n",
      "Val acc: 0.927\n"
     ]
    }
   ],
   "source": [
    "epochs = 10\n",
    "\n",
    "with graph.as_default():\n",
    "    saver = tf.train.Saver()\n",
    "\n",
    "with tf.Session(graph=graph) as sess:\n",
    "    sess.run(tf.global_variables_initializer())\n",
    "    iteration = 1\n",
    "    for e in range(epochs):\n",
    "        state = sess.run(initial_state)\n",
    "        \n",
    "        for ii, (x, y) in enumerate(get_batches(train_x, train_y, batch_size), 1):\n",
    "            feed = {inputs_: x,\n",
    "                    labels_: y[:, None],\n",
    "                    keep_prob: 0.5,\n",
    "                    initial_state: state}\n",
    "            # Run training\n",
    "            loss, state, _ = sess.run([cost, final_state, optimizer], feed_dict=feed)\n",
    "            \n",
    "            # Every 5 iterations of the trainin print loss\n",
    "            if iteration%5==0:\n",
    "                print(\"Epoch: {}/{}\".format(e, epochs),\n",
    "                      \"Iteration: {}\".format(iteration),\n",
    "                      \"Train loss: {:.3f}\".format(loss))\n",
    "            \n",
    "            # Every 25 iterations reset the lstm cell states to zero and get the\n",
    "            # Accuracy using a validation batch instead of a traing batch\n",
    "            if iteration%25==0:\n",
    "                val_acc = []\n",
    "                val_state = sess.run(cell.zero_state(batch_size, tf.float32))\n",
    "                for x, y in get_batches(val_x, val_y, batch_size):\n",
    "                    feed = {inputs_: x,\n",
    "                            labels_: y[:, None],\n",
    "                            keep_prob: 1,\n",
    "                            initial_state: val_state}\n",
    "                    batch_acc, val_state = sess.run([accuracy, final_state], feed_dict=feed)\n",
    "                    val_acc.append(batch_acc)\n",
    "                print(\"Val acc: {:.3f}\".format(np.mean(val_acc)))\n",
    "            iteration +=1\n",
    "    saver.save(sess, \"checkpoints/fake_sentiment.ckpt\")"
   ]
  },
  {
   "cell_type": "markdown",
   "metadata": {},
   "source": [
    "## Testing"
   ]
  },
  {
   "cell_type": "code",
   "execution_count": 25,
   "metadata": {},
   "outputs": [
    {
     "name": "stdout",
     "output_type": "stream",
     "text": [
      "INFO:tensorflow:Restoring parameters from checkpoints/fake_sentiment.ckpt\n",
      "Test accuracy: 0.863\n"
     ]
    }
   ],
   "source": [
    "test_acc = []\n",
    "with graph.as_default():\n",
    "    saver = tf.train.Saver()\n",
    "    \n",
    "with tf.Session(graph=graph) as sess:\n",
    "    saver.restore(sess, tf.train.latest_checkpoint('checkpoints'))\n",
    "    test_state = sess.run(cell.zero_state(batch_size, tf.float32))\n",
    "    for ii, (x, y) in enumerate(get_batches(test_x, test_y, batch_size), 1):\n",
    "        feed = {inputs_: x,\n",
    "                labels_: y[:, None],\n",
    "                keep_prob: 1,\n",
    "                initial_state: test_state}\n",
    "        batch_acc, test_state = sess.run([accuracy, final_state], feed_dict=feed)\n",
    "        test_acc.append(batch_acc)\n",
    "    print(\"Test accuracy: {:.3f}\".format(np.mean(test_acc)))"
   ]
  },
  {
   "cell_type": "code",
   "execution_count": null,
   "metadata": {
    "collapsed": true
   },
   "outputs": [],
   "source": []
  }
 ],
 "metadata": {
  "kernelspec": {
   "display_name": "Python 3",
   "language": "python",
   "name": "python3"
  },
  "language_info": {
   "codemirror_mode": {
    "name": "ipython",
    "version": 3
   },
   "file_extension": ".py",
   "mimetype": "text/x-python",
   "name": "python",
   "nbconvert_exporter": "python",
   "pygments_lexer": "ipython3",
   "version": "3.5.4"
  }
 },
 "nbformat": 4,
 "nbformat_minor": 2
}
